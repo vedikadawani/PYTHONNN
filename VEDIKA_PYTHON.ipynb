{
  "nbformat": 4,
  "nbformat_minor": 0,
  "metadata": {
    "colab": {
      "provenance": [],
      "toc_visible": true,
      "authorship_tag": "ABX9TyNyEMacm/qxh3w6Jy12TUh+",
      "include_colab_link": true
    },
    "kernelspec": {
      "name": "python3",
      "display_name": "Python 3"
    },
    "language_info": {
      "name": "python"
    }
  },
  "cells": [
    {
      "cell_type": "markdown",
      "metadata": {
        "id": "view-in-github",
        "colab_type": "text"
      },
      "source": [
        "<a href=\"https://colab.research.google.com/github/vedikadawani/PYTHONNN/blob/main/VEDIKA_PYTHON.ipynb\" target=\"_parent\"><img src=\"https://colab.research.google.com/assets/colab-badge.svg\" alt=\"Open In Colab\"/></a>"
      ]
    },
    {
      "cell_type": "markdown",
      "source": [
        "#Q1: What is the output of following expression\n",
        "    5 + 4 * 9 % (3 + 1) / 6 - 1"
      ],
      "metadata": {
        "id": "drtZQXam0enJ"
      }
    },
    {
      "cell_type": "code",
      "source": [
        "result = 5 + 4 * 9 % (3 + 1) / 6 - 1\n",
        "print(result)"
      ],
      "metadata": {
        "colab": {
          "base_uri": "https://localhost:8080/"
        },
        "id": "472U_UOo17xX",
        "outputId": "22e61847-c572-405c-d44f-af756fd35287"
      },
      "execution_count": 1,
      "outputs": [
        {
          "output_type": "stream",
          "name": "stdout",
          "text": [
            "4.0\n"
          ]
        }
      ]
    },
    {
      "cell_type": "markdown",
      "source": [
        "Q2: Write a program to check if a Number is Odd or Even. Take number as a input from user at runtime."
      ],
      "metadata": {
        "id": "rTRYA3LI2bnH"
      }
    },
    {
      "cell_type": "code",
      "execution_count": 2,
      "metadata": {
        "colab": {
          "base_uri": "https://localhost:8080/"
        },
        "id": "Tqz4gfOc0bIA",
        "outputId": "d18aee41-03d9-46ba-8f4a-15bbc4571296"
      },
      "outputs": [
        {
          "output_type": "stream",
          "name": "stdout",
          "text": [
            "Enter any number to test whether it is odd or even:45\n",
            "The given number is odd:\n"
          ]
        }
      ],
      "source": [
        "num= int(input(\"Enter any number to test whether it is odd or even:\"))\n",
        "if(num%2)==0:\n",
        "  print(\"The number is even\")\n",
        "else:\n",
        "    print(\"The given number is odd:\")"
      ]
    },
    {
      "cell_type": "markdown",
      "source": [
        "Q3: Write a program to display the multiplication table by taking a number as input.\n",
        "    [Hint : Use print statement inside of a loop]"
      ],
      "metadata": {
        "id": "OTePrHkJ2qqG"
      }
    },
    {
      "cell_type": "code",
      "source": [
        "num=int(input(\"Enter the number of which the multiplication table is to be calculated \"))\n",
        "print(\"The multiplication table of:\",num)\n",
        "for count in range(1,11):\n",
        "    print(num,'x',count,'=',num*count)"
      ],
      "metadata": {
        "colab": {
          "base_uri": "https://localhost:8080/"
        },
        "id": "L_7aXSSe2wt2",
        "outputId": "c4ab98e6-3961-4d2f-85bf-5c93c23c808a"
      },
      "execution_count": 3,
      "outputs": [
        {
          "output_type": "stream",
          "name": "stdout",
          "text": [
            "Enter the number of which the multiplication table is to be calculated 8\n",
            "The multiplication table of: 8\n",
            "8 x 1 = 8\n",
            "8 x 2 = 16\n",
            "8 x 3 = 24\n",
            "8 x 4 = 32\n",
            "8 x 5 = 40\n",
            "8 x 6 = 48\n",
            "8 x 7 = 56\n",
            "8 x 8 = 64\n",
            "8 x 9 = 72\n",
            "8 x 10 = 80\n"
          ]
        }
      ]
    },
    {
      "cell_type": "code",
      "source": [
        "Q4: Write a program which will find all numbers between 2000 and 3200 which are divisible by 7\n",
        "    but are not a multiple of 5.\n",
        "\n",
        "Note: The numbers obtained should be printed in a comma-separated sequence on a single line."
      ],
      "metadata": {
        "id": "UXlDLX8W268D"
      },
      "execution_count": null,
      "outputs": []
    },
    {
      "cell_type": "code",
      "source": [
        "result=[]\n",
        "for num in range(2000,3201):\n",
        "    if num%7==0 and num%5!=0:\n",
        "        result.append(str(num))\n",
        "print(','.join(result))"
      ],
      "metadata": {
        "colab": {
          "base_uri": "https://localhost:8080/"
        },
        "id": "pEkwevtL28vt",
        "outputId": "a081d072-efd5-4019-c82b-401b9af5b439"
      },
      "execution_count": 4,
      "outputs": [
        {
          "output_type": "stream",
          "name": "stdout",
          "text": [
            "2002,2009,2016,2023,2037,2044,2051,2058,2072,2079,2086,2093,2107,2114,2121,2128,2142,2149,2156,2163,2177,2184,2191,2198,2212,2219,2226,2233,2247,2254,2261,2268,2282,2289,2296,2303,2317,2324,2331,2338,2352,2359,2366,2373,2387,2394,2401,2408,2422,2429,2436,2443,2457,2464,2471,2478,2492,2499,2506,2513,2527,2534,2541,2548,2562,2569,2576,2583,2597,2604,2611,2618,2632,2639,2646,2653,2667,2674,2681,2688,2702,2709,2716,2723,2737,2744,2751,2758,2772,2779,2786,2793,2807,2814,2821,2828,2842,2849,2856,2863,2877,2884,2891,2898,2912,2919,2926,2933,2947,2954,2961,2968,2982,2989,2996,3003,3017,3024,3031,3038,3052,3059,3066,3073,3087,3094,3101,3108,3122,3129,3136,3143,3157,3164,3171,3178,3192,3199\n"
          ]
        }
      ]
    },
    {
      "cell_type": "markdown",
      "source": [
        "Count the elements of each datatype inside the list and display in output\n",
        "    [2, 3, 'Py', '10', 1, 'SQL', 5.5, True, 3, 'John', None, 7]"
      ],
      "metadata": {
        "id": "ArFRbu5k3KQi"
      }
    },
    {
      "cell_type": "code",
      "source": [
        "from pickle import FALSE\n",
        "data_list = [2, 3, 'Py', '10', 1, 'SQL', 5.5, True, 3, 'JOHN', None, 7]\n",
        "\n",
        "type_count = {}\n",
        "\n",
        "for item in data_list:\n",
        "    item_type = type(item)\n",
        "\n",
        "    if item_type in type_count:\n",
        "        type_count[item_type] += 1\n",
        "    else:\n",
        "        type_count[item_type] = 1\n",
        "\n",
        "for data_type, count in type_count.items():\n",
        "    print(f\"{data_type.__name__}: {count}\")"
      ],
      "metadata": {
        "colab": {
          "base_uri": "https://localhost:8080/"
        },
        "id": "LVQ1hceB3Qcz",
        "outputId": "d2aec398-e025-4519-83d4-e4fef24a84fa"
      },
      "execution_count": 8,
      "outputs": [
        {
          "output_type": "stream",
          "name": "stdout",
          "text": [
            "int: 5\n",
            "str: 4\n",
            "float: 1\n",
            "bool: 1\n",
            "NoneType: 1\n"
          ]
        }
      ]
    },
    {
      "cell_type": "markdown",
      "source": [
        "Q6: Add all values from the list with numeric datatypes\n",
        "    [2, 3, 'Py', '10', 1, 'SQL', 5.5, True, 3, 'John', None, 7]"
      ],
      "metadata": {
        "id": "bRstzkKW3qNl"
      }
    },
    {
      "cell_type": "code",
      "source": [
        "data_list = [2, 3, 'Py', '10', 1, 'SQL', 5.5, True, 3, 'John', None, 7]\n",
        "\n",
        "total_sum = 0\n",
        "\n",
        "for item in data_list:\n",
        "\n",
        "    if isinstance(item, (int, float)):\n",
        "        total_sum += item\n",
        "\n",
        "print(\"Sum of numeric values:\", total_sum)"
      ],
      "metadata": {
        "colab": {
          "base_uri": "https://localhost:8080/"
        },
        "id": "JloncYid3rLi",
        "outputId": "23d06a3b-c87e-4390-9682-678a2c35bcee"
      },
      "execution_count": 9,
      "outputs": [
        {
          "output_type": "stream",
          "name": "stdout",
          "text": [
            "Sum of numeric values: 22.5\n"
          ]
        }
      ]
    },
    {
      "cell_type": "markdown",
      "source": [
        "Q7: Concat all str datatypes with hyphen as a delimiter\n",
        "    [2, 3, 'Py', '10', 1, 'SQL', 5.5, True, 3, 'John', None, 7]"
      ],
      "metadata": {
        "id": "5ulCjTOL4Knx"
      }
    },
    {
      "cell_type": "code",
      "source": [
        "data_list = [2, 3, 'Py', '10', 1, 'SQL', 5.5, True, 3, 'John', None, 7]\n",
        "\n",
        "string_elements = []\n",
        "\n",
        "for item in data_list:\n",
        "\n",
        "    if isinstance(item, str):\n",
        "        string_elements.append(item)\n",
        "\n",
        "result = '-'.join(string_elements)\n",
        "\n",
        "print(\"Concatenated string:\", result)"
      ],
      "metadata": {
        "colab": {
          "base_uri": "https://localhost:8080/"
        },
        "id": "z0TaywMs4MRq",
        "outputId": "fe37a480-3b69-4951-a865-fca04d15684f"
      },
      "execution_count": 10,
      "outputs": [
        {
          "output_type": "stream",
          "name": "stdout",
          "text": [
            "Concatenated string: Py-10-SQL-John\n"
          ]
        }
      ]
    },
    {
      "cell_type": "markdown",
      "source": [
        "Q8 Get only odd numbers from the following list and store the numbers in new list\n",
        "    li = [5, 7, 22, 97, 54, 62, 77, 23, 73, 61]\n",
        "\n",
        "    i. Use loops to get the answer\n",
        "   ii. Use list comprehensions\n",
        "  iii. Use lambda function with filter"
      ],
      "metadata": {
        "id": "RZafsrK_4Kj3"
      }
    },
    {
      "cell_type": "code",
      "source": [
        "li = [5, 7, 22, 97, 54, 62, 77, 23, 73, 61]\n",
        "\n",
        "# Using a loop to get odd numbers\n",
        "odd_numbers_loop = []\n",
        "for number in li:\n",
        "    if number % 2 != 0:\n",
        "        odd_numbers_loop.append(number)\n",
        "\n",
        "print(\"Odd numbers using loops:\", odd_numbers_loop)\n",
        "\n",
        "# Using list comprehension to get odd numbers\n",
        "odd_numbers_comprehension = [number for number in li if number % 2 != 0]\n",
        "\n",
        "print(\"Odd numbers using list comprehension:\", odd_numbers_comprehension)\n",
        "\n",
        "# Using lambda function with filter to get odd numbers\n",
        "odd_numbers_filter = list(filter(lambda x: x % 2 != 0, li))\n",
        "\n",
        "print(\"Odd numbers using lambda and filter:\", odd_numbers_filter)"
      ],
      "metadata": {
        "colab": {
          "base_uri": "https://localhost:8080/"
        },
        "id": "LzOVp1AE4ZDS",
        "outputId": "b6cff76c-b5f2-4c11-bc78-8c40ea20de12"
      },
      "execution_count": 11,
      "outputs": [
        {
          "output_type": "stream",
          "name": "stdout",
          "text": [
            "Odd numbers using loops: [5, 7, 97, 77, 23, 73, 61]\n",
            "Odd numbers using list comprehension: [5, 7, 97, 77, 23, 73, 61]\n",
            "Odd numbers using lambda and filter: [5, 7, 97, 77, 23, 73, 61]\n"
          ]
        }
      ]
    },
    {
      "cell_type": "markdown",
      "source": [
        "9: Write an udf to calculate the area of different shapes\n",
        "\n",
        "Take shape and dimensions as arguments to udf as follows :\n",
        "\n",
        "1. square which has side\n",
        "2. rectangle which has length and width\n",
        "3. circle which has radius\n",
        "\n",
        "The shape should be a positional argument and it's dimensions are taken as kwargs\n",
        "\n",
        "Perform proper validation for the user inputs and then calculate area.\n",
        "\n",
        "E.g. if shape is square, ensure kwargs has \"side\" and if so, then you may return the area, else display appropriate error message like \"Please enter 'side' for a square\""
      ],
      "metadata": {
        "id": "GvHO3jNl4HX_"
      }
    },
    {
      "cell_type": "code",
      "source": [
        "        if radius is not None:\n",
        "            if isinstance(radius, (int, float)) and radius >= 0:\n",
        "                return 3.14159 * radius ** 2  # Using π ≈ 3.14159\n",
        "            else:\n",
        "                return \"Radius must be a non-negative number.\"\n",
        "        else:\n",
        "            return \"Please enter 'radius' for a circle.\"\n",
        "\n",
        "    else:\n",
        "        return \"Shape not recognized. Please use 'square', 'rectangle', or 'circle'.\"def calculate_area(shape, **kwargs):\n",
        "    if shape == \"square\":\n",
        "        side = kwargs.get(\"side\")\n",
        "        if side is not None:\n",
        "            if isinstance(side, (int, float)) and side >= 0:\n",
        "                return side ** 2\n",
        "            else:\n",
        "                return \"Side must be a non-negative number.\"\n",
        "        else:\n",
        "            return \"Please enter 'side' for a square.\"\n",
        "\n",
        "    elif shape == \"rectangle\":\n",
        "        length = kwargs.get(\"length\")\n",
        "        width = kwargs.get(\"width\")\n",
        "        if length is not None and width is not None:\n",
        "            if (isinstance(length, (int, float)) and length >= 0) and \\\n",
        "               (isinstance(width, (int, float)) and width >= 0):\n",
        "                return length * width\n",
        "            else:\n",
        "                return \"Length and width must be non-negative numbers.\"\n",
        "        else:\n",
        "            return \"Please enter 'length' and 'width' for a rectangle.\"\n",
        "\n",
        "    elif shape == \"circle\":\n",
        "        radius = kwargs.get(\"radius\")"
      ],
      "metadata": {
        "colab": {
          "base_uri": "https://localhost:8080/",
          "height": 110
        },
        "id": "1iYAZIdQ41k9",
        "outputId": "5888b56a-dcd2-497d-9014-ee191a3e1ba1"
      },
      "execution_count": 34,
      "outputs": [
        {
          "output_type": "error",
          "ename": "SyntaxError",
          "evalue": "invalid syntax (<ipython-input-34-15f57efd2e28>, line 9)",
          "traceback": [
            "\u001b[0;36m  File \u001b[0;32m\"<ipython-input-34-15f57efd2e28>\"\u001b[0;36m, line \u001b[0;32m9\u001b[0m\n\u001b[0;31m    else:\u001b[0m\n\u001b[0m    ^\u001b[0m\n\u001b[0;31mSyntaxError\u001b[0m\u001b[0;31m:\u001b[0m invalid syntax\n"
          ]
        }
      ]
    },
    {
      "cell_type": "markdown",
      "source": [
        "Q10 write a UDF to check if a number is prime or not."
      ],
      "metadata": {
        "id": "HpS4EJbd8Zle"
      }
    },
    {
      "cell_type": "code",
      "source": [
        "def is_prime(n):\n",
        "    \"\"\"Check if a number is prime.\"\"\"\n",
        "    if n <= 1:\n",
        "        return False\n",
        "    if n <= 3:\n",
        "        return True\n",
        "\n",
        "    if n % 2 == 0 or n % 3 == 0:\n",
        "        return False\n",
        "\n",
        "    i = 5\n",
        "    while i * i <= n:\n",
        "        if n % i == 0 or n % (i + 2) == 0:\n",
        "            return False\n",
        "        i += 6\n",
        "\n",
        "    return True"
      ],
      "metadata": {
        "id": "_c_sivLw8efK"
      },
      "execution_count": 32,
      "outputs": []
    },
    {
      "cell_type": "markdown",
      "source": [
        "Q11. Write a program that takes a string and returns reversed string. i.e. if input is \"abcd123\" output should be \"321dcba\""
      ],
      "metadata": {
        "id": "ijRu89Ro8kWn"
      }
    },
    {
      "cell_type": "code",
      "source": [
        "def reverse_string(input_string):\n",
        "    \"\"\"Return the reversed version of the input string.\"\"\"\n",
        "    return input_string[::-1]\n",
        "\n",
        "user_input = input(\"Enter a string: \")\n",
        "\n",
        "reversed_string = reverse_string(user_input)\n",
        "print(\"Reversed string:\", reversed_string)"
      ],
      "metadata": {
        "colab": {
          "base_uri": "https://localhost:8080/"
        },
        "id": "inHnp-0Z8pEA",
        "outputId": "73dcf6d7-4bc9-470f-f015-1fb0329515ae"
      },
      "execution_count": 33,
      "outputs": [
        {
          "output_type": "stream",
          "name": "stdout",
          "text": [
            "Enter a string: 5\n",
            "Reversed string: 5\n"
          ]
        }
      ]
    }
  ]
}